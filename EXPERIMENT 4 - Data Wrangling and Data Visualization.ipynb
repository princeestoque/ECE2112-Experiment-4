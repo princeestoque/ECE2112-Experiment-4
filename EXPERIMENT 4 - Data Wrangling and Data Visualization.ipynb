{
 "cells": [
  {
   "cell_type": "markdown",
   "id": "517e8e4f-e51d-435a-aaa6-d3063e78024f",
   "metadata": {},
   "source": [
    "## Problem 1"
   ]
  },
  {
   "cell_type": "code",
   "execution_count": null,
   "id": "bc5fcf12-a525-45df-9979-0f90988ece88",
   "metadata": {},
   "outputs": [],
   "source": [
    "import pandas as pd # Import the pandas library with the alias pd\n",
    "\n",
    "# Load the board2.xlsx file into a DataFrame named board\n",
    "board = pd.read_excel(\"board2.xlsx\")\n",
    "board\n",
    "\n",
    "# a. Create a dataframe with Vis as name, [“Name”, “Gender”, “Track”, “Math<70”]; hometown is constant as Visayas\n",
    "Vis = board.loc[(board['Hometown']=='Visayas') & (board['Math']<70), ('Name','Gender','Track','Math')]\n",
    "Vis"
   ]
  },
  {
   "cell_type": "code",
   "execution_count": null,
   "id": "5b776a45-dcfe-4a25-9c9e-4b870535ba88",
   "metadata": {},
   "outputs": [],
   "source": [
    "# b. Create a dataframe with Instru as name, [“Name”, “GEAS”, “Electronics >70”]; where track is constant as Instrumentation and hometown Luzon\n",
    "Instru = board.loc[(board['Track']=='Instrumentation') & (board['Hometown']=='Luzon') & (board['Electronics']<70), ('Name','GEAS','Electronics')]\n",
    "Instru"
   ]
  },
  {
   "cell_type": "code",
   "execution_count": null,
   "id": "23d54872-ea8b-4680-abef-89ed2424bb95",
   "metadata": {},
   "outputs": [],
   "source": [
    "# Calculate the average for four subjects (Math, Electronics, GEAS, Communication)\n",
    "board['Average'] = (board['Math'] + board['Electronics'] + board['GEAS'] + board['Communication']) / 4\n",
    "\n",
    "# c. Create a dataframe with Mindy as name, [ “Name”, “Track”, “Electronics”, “Average >=55”]; where hometown is constant as Mindanao and gender Female\n",
    "Mindy = board.loc[(board['Hometown']=='Mindanao') & (board['Gender']=='Female') & (board['Average']>=55), ('Name','Track','Electronics','Average')]\n",
    "Mindy"
   ]
  },
  {
   "cell_type": "markdown",
   "id": "c28e1963-9782-4cb1-bbda-7964216c5e02",
   "metadata": {},
   "source": [
    "## Problem 2"
   ]
  },
  {
   "cell_type": "code",
   "execution_count": null,
   "id": "c3584b5f-54e9-49df-932e-ca062c35db85",
   "metadata": {},
   "outputs": [],
   "source": [
    "import matplotlib.pyplot as plt # Import the matplotlib library with the alias plt\n",
    "\n",
    "# Show the data in a graphical format (Track = Blue, Gender = Orange, Hometown = Green)\n",
    "plt.figure(figsize=(15, 5))\n",
    "plt.bar(board['Track'], board['Average'])\n",
    "plt.bar(board['Gender'], board['Average'])\n",
    "plt.bar(board['Hometown'], board['Average'])"
   ]
  }
 ],
 "metadata": {
  "kernelspec": {
   "display_name": "Python 3 (ipykernel)",
   "language": "python",
   "name": "python3"
  },
  "language_info": {
   "codemirror_mode": {
    "name": "ipython",
    "version": 3
   },
   "file_extension": ".py",
   "mimetype": "text/x-python",
   "name": "python",
   "nbconvert_exporter": "python",
   "pygments_lexer": "ipython3",
   "version": "3.12.4"
  }
 },
 "nbformat": 4,
 "nbformat_minor": 5
}
